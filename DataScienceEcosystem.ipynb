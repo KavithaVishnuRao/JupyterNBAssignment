{
 "cells": [
  {
   "cell_type": "markdown",
   "id": "e2189eda-a5a1-45db-999c-6b299f9593a0",
   "metadata": {},
   "source": [
    "# Data Science Tools and Ecosystem"
   ]
  },
  {
   "cell_type": "markdown",
   "id": "8e39a610-6463-4e20-89e5-9b14cc391b32",
   "metadata": {},
   "source": [
    "In this notebook, Data Science Tools and Ecosystem are summarized."
   ]
  },
  {
   "cell_type": "markdown",
   "id": "0cbc70fe-a8ac-40d4-a352-127a50fdc0fd",
   "metadata": {},
   "source": [
    "**Objectives:**\n",
    "- popular languages for Data Science\n",
    "- Commonly used Libraries used by Data Scientists\n",
    "- Data Science Tools\n",
    "- Evaluating Arithmetic Expression\n",
    "- Creating Code and Markdown cells"
   ]
  },
  {
   "cell_type": "markdown",
   "id": "4ac8f4d7-b67c-48dc-9323-b4a4e03a35c7",
   "metadata": {},
   "source": [
    "Some of the popular languages that Data Scientists use are:\n",
    "1. Python\n",
    "2. R\n",
    "3. Scala\n",
    "4. C++"
   ]
  },
  {
   "cell_type": "markdown",
   "id": "5c645004-2a41-4934-93e4-54614a7c3c80",
   "metadata": {},
   "source": [
    "Some of the commonly used libraries used by Data Scientists include:\n",
    "1. Numpy\n",
    "2. Scikit Learn\n",
    "3. Pandas\n",
    "4. Seaborn\n"
   ]
  },
  {
   "cell_type": "markdown",
   "id": "eea6bb8b-03b2-4bd5-a559-2edbd51c34e9",
   "metadata": {},
   "source": [
    "|Data Science Tools|\n",
    "|-----|\n",
    "|R Studio|\n",
    "|VS Code|\n",
    "|Jupyter Labs|"
   ]
  },
  {
   "cell_type": "markdown",
   "id": "1c1ecf96-4617-4902-b7de-41a0f8cc9670",
   "metadata": {},
   "source": [
    "### Below are a few examples of evaluating arithmetic expressions in Python"
   ]
  },
  {
   "cell_type": "code",
   "execution_count": 2,
   "id": "9aaf61e0-a71f-4e5b-a086-d9e00a67b243",
   "metadata": {},
   "outputs": [
    {
     "data": {
      "text/plain": [
       "17"
      ]
     },
     "execution_count": 2,
     "metadata": {},
     "output_type": "execute_result"
    }
   ],
   "source": [
    "#This a simple arithmetic expression to mutiply then add integers\n",
    "(3*4)+5"
   ]
  },
  {
   "cell_type": "code",
   "execution_count": 25,
   "id": "b3ca990f-d8bd-45c6-ab9e-df61a6d02d0d",
   "metadata": {},
   "outputs": [
    {
     "data": {
      "text/plain": [
       "'200 Minutes =3.333333 Hours'"
      ]
     },
     "execution_count": 25,
     "metadata": {},
     "output_type": "execute_result"
    }
   ],
   "source": [
    "#This will convert 200 minutes to hours by diving by 60\n",
    "\"200 Minutes ={0:2f} Hours\".format(200/60)"
   ]
  },
  {
   "cell_type": "markdown",
   "id": "43b34aa6-cda5-488c-8511-8c60a3254caa",
   "metadata": {},
   "source": [
    "## Author\n",
    "K R"
   ]
  }
 ],
 "metadata": {
  "kernelspec": {
   "display_name": "Python 3 (ipykernel)",
   "language": "python",
   "name": "python3"
  },
  "language_info": {
   "codemirror_mode": {
    "name": "ipython",
    "version": 3
   },
   "file_extension": ".py",
   "mimetype": "text/x-python",
   "name": "python",
   "nbconvert_exporter": "python",
   "pygments_lexer": "ipython3",
   "version": "3.11.5"
  }
 },
 "nbformat": 4,
 "nbformat_minor": 5
}
